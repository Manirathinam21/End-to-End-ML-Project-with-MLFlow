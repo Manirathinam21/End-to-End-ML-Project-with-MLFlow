{
 "cells": [
  {
   "cell_type": "code",
   "execution_count": 1,
   "metadata": {},
   "outputs": [
    {
     "data": {
      "text/plain": [
       "'d:\\\\ML_Proj\\\\End-to-End-ML-Project-with-MLFlow\\\\research'"
      ]
     },
     "execution_count": 1,
     "metadata": {},
     "output_type": "execute_result"
    }
   ],
   "source": [
    "%pwd"
   ]
  },
  {
   "cell_type": "code",
   "execution_count": 2,
   "metadata": {},
   "outputs": [],
   "source": [
    "import os \n",
    "\n",
    "os.chdir(\"../\")"
   ]
  },
  {
   "cell_type": "code",
   "execution_count": 3,
   "metadata": {},
   "outputs": [
    {
     "data": {
      "text/plain": [
       "'d:\\\\ML_Proj\\\\End-to-End-ML-Project-with-MLFlow'"
      ]
     },
     "execution_count": 3,
     "metadata": {},
     "output_type": "execute_result"
    }
   ],
   "source": [
    "%pwd"
   ]
  },
  {
   "cell_type": "code",
   "execution_count": 4,
   "metadata": {},
   "outputs": [],
   "source": [
    "from dataclasses import dataclass\n",
    "from pathlib import Path\n",
    "\n",
    "@dataclass(frozen=True)\n",
    "class DataTransformationConfig:\n",
    "    root_dir: Path\n",
    "    data_path: Path "
   ]
  },
  {
   "cell_type": "code",
   "execution_count": 5,
   "metadata": {},
   "outputs": [],
   "source": [
    "from mlProject.constants import *\n",
    "from mlProject.utils.common import read_yaml, create_directories\n",
    "\n",
    "\n",
    "class ConfigurationManager:\n",
    "    def __init__ (self, \n",
    "        config_filepath= CONFIG_FILE_PATH,\n",
    "        params_filepath= PARAMS_FILE_PATH,\n",
    "        schema_filepath= SCHEMA_FILE_PATH):\n",
    "\n",
    "        self.config= read_yaml(config_filepath) \n",
    "        self.params= read_yaml(params_filepath)\n",
    "        self.schema= read_yaml(schema_filepath)\n",
    "\n",
    "        create_directories([self.config.artifacts_root])\n",
    "\n",
    "    def get_data_transformation_config(self) -> DataTransformationConfig:\n",
    "        config= self.config.data_transformation\n",
    "\n",
    "        create_directories([config.root_dir])\n",
    "\n",
    "        data_transformation_config= DataTransformationConfig(\n",
    "            root_dir= config.root_dir,\n",
    "            data_path= config.data_path)\n",
    "\n",
    "        return data_transformation_config\n"
   ]
  },
  {
   "cell_type": "code",
   "execution_count": 11,
   "metadata": {},
   "outputs": [],
   "source": [
    "import os\n",
    "import pandas as pd\n",
    "from sklearn.model_selection import train_test_split\n",
    "from mlProject import logger\n",
    "\n",
    "class DataTransformation:\n",
    "    def __init__ (self, config: DataTransformationConfig):\n",
    "        self.config= config\n",
    "\n",
    "    def train_test_splitting(self):\n",
    "        data= pd.read_csv(self.config.data_path)\n",
    "\n",
    "        # split the data into training and test sets (0.70 , 0.30) split.\n",
    "        train, test= train_test_split(data, test_size=0.30)\n",
    "\n",
    "        train.to_csv(os.path.join(self.config.root_dir, \"train.csv\"), index=False)\n",
    "        test.to_csv(os.path.join(self.config.root_dir, \"test.csv\"), index=False)\n",
    "\n",
    "        logger.info(\"splited data into train and test sets with stratified\")\n",
    "        logger.info(train.shape)\n",
    "        logger.info(test.shape)\n",
    "\n",
    "        print(train.shape)\n",
    "        print(test.shape)"
   ]
  },
  {
   "cell_type": "code",
   "execution_count": 12,
   "metadata": {},
   "outputs": [
    {
     "name": "stdout",
     "output_type": "stream",
     "text": [
      "[2023-08-14 14:52:53,153: INFO: common: yaml file: config\\config.yaml loaded successfully]\n",
      "[2023-08-14 14:52:53,157: INFO: common: yaml file: params.yaml loaded successfully]\n",
      "[2023-08-14 14:52:53,162: INFO: common: yaml file: schema.yaml loaded successfully]\n",
      "[2023-08-14 14:52:53,164: INFO: common: created directory at: artifacts]\n",
      "[2023-08-14 14:52:53,165: INFO: common: created directory at: artifacts/data_transformation]\n",
      "[2023-08-14 14:52:53,204: INFO: 1322145762: splited data into train and test sets with stratified]\n",
      "[2023-08-14 14:52:53,205: INFO: 1322145762: (1119, 12)]\n",
      "[2023-08-14 14:52:53,206: INFO: 1322145762: (480, 12)]\n",
      "(1119, 12)\n",
      "(480, 12)\n"
     ]
    }
   ],
   "source": [
    "try:\n",
    "    config= ConfigurationManager()\n",
    "    data_transformation_config= config.get_data_transformation_config()\n",
    "    data_transformation= DataTransformation(config= data_transformation_config)\n",
    "    data_transformation.train_test_splitting()\n",
    "except Exception as e:\n",
    "    raise e"
   ]
  },
  {
   "cell_type": "code",
   "execution_count": null,
   "metadata": {},
   "outputs": [],
   "source": []
  }
 ],
 "metadata": {
  "kernelspec": {
   "display_name": "Python 3.11.3 ('base')",
   "language": "python",
   "name": "python3"
  },
  "language_info": {
   "codemirror_mode": {
    "name": "ipython",
    "version": 3
   },
   "file_extension": ".py",
   "mimetype": "text/x-python",
   "name": "python",
   "nbconvert_exporter": "python",
   "pygments_lexer": "ipython3",
   "version": "3.11.3"
  },
  "orig_nbformat": 4,
  "vscode": {
   "interpreter": {
    "hash": "32a9a6966da1f5285dd151e7dc97e118a92c30006b9b0331549f936d39370a67"
   }
  }
 },
 "nbformat": 4,
 "nbformat_minor": 2
}
